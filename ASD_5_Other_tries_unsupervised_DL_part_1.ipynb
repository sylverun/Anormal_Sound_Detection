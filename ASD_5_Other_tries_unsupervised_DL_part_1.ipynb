{
 "cells": [
  {
   "cell_type": "markdown",
   "id": "e7129f06",
   "metadata": {},
   "source": [
    "# Other tries with unsupervised Deep learning (part 1)"
   ]
  },
  {
   "cell_type": "code",
   "execution_count": 1,
   "id": "09ca734e",
   "metadata": {},
   "outputs": [],
   "source": [
    "from tensorflow.compat.v1 import ConfigProto\n",
    "from tensorflow.compat.v1 import InteractiveSession\n",
    "config = ConfigProto()\n",
    "config.gpu_options.allow_growth = True\n",
    "session = InteractiveSession(config=config)\n",
    "\n",
    "import librosa\n",
    "import librosa.display\n",
    "import IPython.display as ipd\n",
    "import os\n",
    "import pandas as pd\n",
    "import matplotlib.pyplot as plt\n",
    "import seaborn as sns\n",
    "import math\n",
    "import numpy as np\n",
    "from sklearn.model_selection import train_test_split\n",
    "import pywt\n",
    "from tensorflow.keras.models import Sequential, Model\n",
    "from tensorflow.keras.layers import Dense, Activation, Input\n",
    "from tensorflow.keras.layers import Dropout\n",
    "from tensorflow.keras.layers import Flatten\n",
    "from tensorflow.keras.layers import Conv2D,Conv1D\n",
    "from tensorflow.keras.layers import MaxPooling2D\n",
    "from keras.utils import to_categorical\n",
    "from matplotlib import cm\n",
    "%matplotlib inline\n",
    "from sklearn import metrics\n",
    "import tensorflow as tf\n",
    "import itertools\n",
    "\n",
    "\n",
    "#Constant used throughout the notebook\n",
    "PATH_TRAINING_DATASET = r\"C:\\Users\\sylv_\\Desktop\\audio for asd\"\n"
   ]
  },
  {
   "cell_type": "code",
   "execution_count": 2,
   "id": "35e320d1",
   "metadata": {},
   "outputs": [
    {
     "name": "stdout",
     "output_type": "stream",
     "text": [
      "<class 'pandas.core.frame.DataFrame'>\n",
      "RangeIndex: 3600 entries, 0 to 3599\n",
      "Data columns (total 8 columns):\n",
      " #   Column      Non-Null Count  Dtype \n",
      "---  ------      --------------  ----- \n",
      " 0   filepath    3600 non-null   object\n",
      " 1   filename    3600 non-null   object\n",
      " 2   section     3600 non-null   int64 \n",
      " 3   domain_env  3600 non-null   object\n",
      " 4   dir         3600 non-null   object\n",
      " 5   sound_type  3600 non-null   object\n",
      " 6   id          3600 non-null   object\n",
      " 7   suffix      3600 non-null   object\n",
      "dtypes: int64(1), object(7)\n",
      "memory usage: 225.1+ KB\n",
      "<class 'pandas.core.frame.DataFrame'>\n",
      "RangeIndex: 3600 entries, 0 to 3599\n",
      "Data columns (total 8 columns):\n",
      " #   Column      Non-Null Count  Dtype \n",
      "---  ------      --------------  ----- \n",
      " 0   filepath    3600 non-null   object\n",
      " 1   filename    3600 non-null   object\n",
      " 2   section     3600 non-null   int64 \n",
      " 3   domain_env  3600 non-null   object\n",
      " 4   dir         3600 non-null   object\n",
      " 5   sound_type  3600 non-null   object\n",
      " 6   id          3600 non-null   object\n",
      " 7   suffix      3600 non-null   object\n",
      "dtypes: int64(1), object(7)\n",
      "memory usage: 225.1+ KB\n"
     ]
    }
   ],
   "source": [
    "def build_dataframe(machine_str = 'valve'):\n",
    "    #Get list of files in train and test directory\n",
    "    path_train_folder = PATH_TRAINING_DATASET + \"\\\\dev_\" + machine_str + \"\\\\\" + machine_str + \"\\\\train\"\n",
    "    path_test_folder = PATH_TRAINING_DATASET  + \"\\\\dev_\" + machine_str + \"\\\\\" + machine_str + \"\\\\test\"\n",
    "\n",
    "    train_files = [f for f in os.listdir(path_train_folder)]\n",
    "    test_files = [f for f in os.listdir(path_test_folder)]\n",
    "\n",
    "    #Get list of dictionnary for creating DataFrame\n",
    "    list_dict_file = []\n",
    "\n",
    "    #Loop through filenames\n",
    "    for filename in train_files:\n",
    "\n",
    "        #Get filename as list of string\n",
    "        splitted_filename = filename.split('_')\n",
    "\n",
    "        #Append dictionnary to list\n",
    "        list_dict_file.append({\n",
    "            'filepath' : path_train_folder + \"\\\\\" + filename,\n",
    "            'filename' : filename,\n",
    "            'section' : int(splitted_filename[1]),\n",
    "            'domain_env' : splitted_filename[2],\n",
    "            'dir' : splitted_filename[3],\n",
    "            'sound_type' : splitted_filename[4],\n",
    "            'id' : splitted_filename[5],\n",
    "            'suffix' : '_'.join(splitted_filename[6:])        #.split('.')[0]  --> want to keep the complete suffix\n",
    "        })\n",
    "\n",
    "    #Loop through filenames\n",
    "    for filename in test_files:\n",
    "\n",
    "        #Get filename as list of string\n",
    "        splitted_filename = filename.split('_')\n",
    "\n",
    "        #Append dictionnary to list\n",
    "        list_dict_file.append({\n",
    "            'filepath' : path_test_folder  + \"\\\\\" + filename,\n",
    "            'filename' : filename,\n",
    "            'section' : int(splitted_filename[1]),\n",
    "            'domain_env' : splitted_filename[2],\n",
    "            'dir' : splitted_filename[3],\n",
    "            'sound_type' : splitted_filename[4],\n",
    "            'id' : splitted_filename[5],\n",
    "            'suffix' : '_'.join(splitted_filename[6:])     #.split('.')[0]  --> want to keep the complete suffix\n",
    "        })\n",
    "        \n",
    "    return pd.DataFrame(list_dict_file)\n",
    "\n",
    "\n",
    "def sound_from_file(filename, machine_str = 'valve', dataset = 'train'):\n",
    "    df = build_dataframe(machine_str)\n",
    "    path = PATH_TRAINING_DATASET + \"\\\\dev_\" + machine_str + \"\\\\\" + machine_str + \"\\\\\" + dataset + \"\\\\\" + filename\n",
    "    return df[df['filepath']==path].iloc[0]\n",
    "    \n",
    "\n",
    "\n",
    "df_fan = build_dataframe('fan')\n",
    "df_valve = build_dataframe('valve')\n",
    "df_bearing = build_dataframe('bearing')\n",
    "df_slider = build_dataframe('slider')\n",
    "df_car = build_dataframe('ToyCar')\n",
    "df_train = build_dataframe('ToyTrain')\n",
    "df_gearbox = build_dataframe('gearbox')\n",
    "\n",
    "df_fan.info()\n",
    "df_fan.head()\n",
    "df_slider.info()"
   ]
  },
  {
   "cell_type": "code",
   "execution_count": 3,
   "id": "828fef73",
   "metadata": {},
   "outputs": [],
   "source": [
    "def load_audio(audio_path):\n",
    "    return librosa.load(audio_path, sr=None)\n",
    "\n",
    "def logMelSpectrogram(audio, fe, dt):\n",
    "    # Spectrogramme\n",
    "    stfts = np.abs(librosa.stft(audio,\n",
    "                                n_fft=int(dt*fe),\n",
    "                                hop_length=int(dt*fe),\n",
    "                                center=True\n",
    "                                )).T\n",
    "    num_spectrogram_bins = stfts.shape[-1]\n",
    "    # Filtre de MEL\n",
    "    linear_to_mel_weight_matrix = librosa.filters.mel(\n",
    "        sr=fe,\n",
    "        n_fft=int(dt*fe) + 1,\n",
    "        n_mels=num_spectrogram_bins,\n",
    "    ).T\n",
    "\n",
    "    # Application du filtre au spectrogramme\n",
    "    mel_spectrograms = np.tensordot(\n",
    "        stfts,\n",
    "        linear_to_mel_weight_matrix,\n",
    "        1\n",
    "    )\n",
    "    return np.log(mel_spectrograms + 1e-6)\n",
    "\n",
    "def load_data(audio_path, dt=0.03):\n",
    "    X_audio = []\n",
    "    Y_audio=[]\n",
    "    Z_audio=[]\n",
    "    for i, a_path in enumerate(audio_path):\n",
    "        # On charge les fichiers audio depuis les chemins\n",
    "        data, fe = load_audio(a_path)\n",
    "\n",
    "        # On applique la fonction logMelSpectrogram.\n",
    "        #spectre_audio = logMelSpectrogram(data, fe, dt)\n",
    "        spectre_ft = np.abs(librosa.stft(data, n_fft= int(fe*dt), hop_length = int(fe*dt)))\n",
    "        #X_audio.append(spectre_audio)\n",
    "        Y_audio.append(spectre_ft)\n",
    "    a_audio = np.expand_dims(Y_audio, 3)\n",
    "        #coeff, freq = pywt.cwt(data,scales=np.arange(1,129), wavelet='morl')\n",
    "        #Z_audio.append(coeff)\n",
    "    return np.array(a_audio)"
   ]
  },
  {
   "cell_type": "markdown",
   "id": "990983da",
   "metadata": {},
   "source": [
    "## Essai Autoencoder simple 1 machine-valve- FT to FT-bottleneck: 20"
   ]
  },
  {
   "cell_type": "code",
   "execution_count": null,
   "id": "4d9b3957",
   "metadata": {},
   "outputs": [],
   "source": [
    "df0 = df_valve # to change for other machines\n",
    "df0 = df0.replace(to_replace = ['normal', 'anomaly'], value = [1, 0])\n",
    "X= df0.drop(['sound_type'],1)\n",
    "y=df0.sound_type"
   ]
  },
  {
   "cell_type": "code",
   "execution_count": null,
   "id": "ceae9f27",
   "metadata": {},
   "outputs": [],
   "source": [
    "X_normal= X[y == 1]\n",
    "X_anomaly= X[y == 0]\n",
    "\n",
    "X_train_normal,X_test_normal = train_test_split(X_normal[\"filepath\"] , test_size=0.2)\n",
    "\n",
    "X_train_normal = load_data(X_train_normal)\n",
    "X_test_normal = load_data(X_test_normal)\n",
    "print(X_train_normal.shape)\n",
    "print(X_test_normal.shape)"
   ]
  },
  {
   "cell_type": "code",
   "execution_count": null,
   "id": "ed984877",
   "metadata": {},
   "outputs": [],
   "source": [
    "X_train_normal_2= np.pad(X_train_normal, pad_width=((0,0),(0,7),(0,2),(0,0)), constant_values=0)\n",
    "X_test_normal_2= np.pad(X_test_normal, pad_width=((0,0),(0,7),(0,2),(0,0)), constant_values=0)\n",
    "print(X_train_normal_2.shape)"
   ]
  },
  {
   "cell_type": "code",
   "execution_count": null,
   "id": "b4da8a53",
   "metadata": {},
   "outputs": [],
   "source": [
    "from tensorflow.keras.utils import Sequence\n",
    "import numpy as np   \n",
    "\n",
    "class DataGenerator(Sequence):\n",
    "    def __init__(self, x_set, y_set, batch_size):\n",
    "        self.x, self.y = x_set, y_set\n",
    "        self.batch_size = batch_size\n",
    "\n",
    "    def __len__(self):\n",
    "        return int(np.ceil(len(self.x) / float(self.batch_size)))\n",
    "\n",
    "    def __getitem__(self, idx):\n",
    "        batch_x = self.x[idx * self.batch_size:(idx + 1) * self.batch_size]\n",
    "        batch_y = self.y[idx * self.batch_size:(idx + 1) * self.batch_size]\n",
    "        return batch_x, batch_y\n",
    "\n",
    "train_gen = DataGenerator(X_train_normal_2,X_train_normal_2, 20)\n",
    "test_gen = DataGenerator(X_test_normal_2,X_test_normal_2,20)"
   ]
  },
  {
   "cell_type": "code",
   "execution_count": null,
   "id": "1fd48fc6",
   "metadata": {},
   "outputs": [],
   "source": [
    "from tensorflow.keras.layers import UpSampling2D,Reshape\n",
    "\n",
    "autoencoder= Sequential()\n",
    "\n",
    "encodeur_1= Conv2D(64, kernel_size=(3, 3), activation='linear', input_shape=X_train_normal_2.shape[1:])\n",
    "encodeur_2= MaxPooling2D(pool_size=(2, 2))\n",
    "encodeur_3= Conv2D(32, kernel_size=(3, 3), activation='linear')\n",
    "encodeur_4= MaxPooling2D(pool_size=(2, 2))\n",
    "encodeur_5= Dropout(0.25)\n",
    "encodeur_6= Flatten()\n",
    "\n",
    "encodeur_7= Dense(5, activation='linear')\n",
    "encodeur_8= Dense(5, activation='relu')\n",
    "decodeur_0= Dense(166656, activation='linear')\n",
    "\n",
    "decodeur_1= Reshape((62, 84, 32))\n",
    "decodeur_2= UpSampling2D((2, 2))\n",
    "decodeur_3= Conv2D(32, kernel_size=(3, 3), activation='linear', padding='same')\n",
    "decodeur_4= UpSampling2D((2, 2))\n",
    "\n",
    "decodeur_5= Conv2D(1, kernel_size=(3, 3), activation='linear', padding='same')\n",
    "\n",
    "\n",
    "\n",
    "autoencoder.add(encodeur_1)\n",
    "autoencoder.add(encodeur_2)\n",
    "autoencoder.add(encodeur_3)\n",
    "autoencoder.add(encodeur_4)\n",
    "autoencoder.add(encodeur_5)\n",
    "autoencoder.add(encodeur_6)\n",
    "autoencoder.add(encodeur_7)\n",
    "autoencoder.add(encodeur_8)\n",
    "\n",
    "autoencoder.add(decodeur_0)\n",
    "autoencoder.add(decodeur_1)\n",
    "autoencoder.add(decodeur_2)\n",
    "autoencoder.add(decodeur_3)\n",
    "autoencoder.add(decodeur_4)\n",
    "autoencoder.add(decodeur_5)\n",
    "\n",
    "\n",
    "autoencoder.compile(loss = 'mse',optimizer = 'adam',metrics = ['accuracy'])\n",
    "autoencoder.summary()"
   ]
  },
  {
   "cell_type": "code",
   "execution_count": null,
   "id": "26ebeb67",
   "metadata": {},
   "outputs": [],
   "source": [
    "history_autoencoder=autoencoder.fit(train_gen, epochs=8, validation_data= test_gen)"
   ]
  },
  {
   "cell_type": "code",
   "execution_count": null,
   "id": "56fcb9e0",
   "metadata": {},
   "outputs": [],
   "source": [
    "plt.figure(figsize=(8, 5))\n",
    "\n",
    "plt.plot(history_autoencoder.history['loss'], linewidth=2, label='Train')\n",
    "plt.plot(history_autoencoder.history['val_loss'], linewidth=2, label='Validation')\n",
    "\n",
    "plt.xlabel('Epoque')\n",
    "plt.ylabel('Perte')\n",
    "plt.title('Evolution de la fonction de perte', fontsize=15)\n",
    "plt.legend()\n",
    "plt.show()"
   ]
  },
  {
   "cell_type": "code",
   "execution_count": null,
   "id": "eff6a9a2",
   "metadata": {
    "scrolled": true
   },
   "outputs": [],
   "source": [
    "from tensorflow.keras.losses import mean_squared_error\n",
    "\n",
    "X_train_normal_pred=autoencoder.predict(train_gen, 5)\n",
    "mse_train=mean_squared_error(X_train_normal_2,X_train_normal_pred)\n",
    "print(np.percentile(mse_train,q=95))\n",
    "\n",
    "X_test_normal_pred=autoencoder.predict(test_gen,5)\n",
    "mse_test=mean_squared_error(X_test_normal_2,X_test_normal_pred)\n",
    "print(np.percentile(mse_test,q=95))"
   ]
  },
  {
   "cell_type": "code",
   "execution_count": null,
   "id": "0ee1691a",
   "metadata": {},
   "outputs": [],
   "source": [
    "X_anomaly= X[y == 0]\n",
    "X_anomaly = load_data(X_anomaly[\"filepath\"])\n",
    "\n",
    "X_anomaly_2=np.pad(X_anomaly, pad_width=((0,0),(0,7),(0,2),(0,0)), constant_values=0)\n",
    "\n",
    "X_anomaly_pred=autoencoder.predict(X_anomaly_2)\n",
    "mse2=mean_squared_error(X_anomaly_2,X_anomaly_pred)\n",
    "print(np.percentile(mse2,q=95))"
   ]
  },
  {
   "cell_type": "code",
   "execution_count": null,
   "id": "cb7fcd88",
   "metadata": {},
   "outputs": [],
   "source": [
    "mse_train.shape"
   ]
  },
  {
   "cell_type": "code",
   "execution_count": null,
   "id": "27373dcc",
   "metadata": {},
   "outputs": [],
   "source": [
    "#Loss of test split training samples\n",
    "mse_losses_train_normal =[]\n",
    "for data in mse_train:\n",
    "    mse=1/((np.array(data).max()- np.array(data).mean()) / (np.array(data).max()- np.array(data).min()))\n",
    "    mse_losses_train_normal.append(mse)"
   ]
  },
  {
   "cell_type": "code",
   "execution_count": null,
   "id": "25fffe36",
   "metadata": {},
   "outputs": [],
   "source": [
    "#Loss of test normal samples\n",
    "mse_losses_test_normal = []\n",
    "for data in mse_test:\n",
    "    mse=1/((np.array(data).max()- np.array(data).mean()) / (np.array(data).max()- np.array(data).min()))\n",
    "    mse_losses_test_normal.append(mse)"
   ]
  },
  {
   "cell_type": "code",
   "execution_count": null,
   "id": "3533bc54",
   "metadata": {},
   "outputs": [],
   "source": [
    "#Loss of anormal test samples\n",
    "mse_losses_test_anomaly = []\n",
    "for data in mse2:\n",
    "    mse=1/((np.array(data).max()- np.array(data).mean()) / (np.array(data).max()- np.array(data).min()))\n",
    "    mse_losses_test_anomaly.append(mse)"
   ]
  },
  {
   "cell_type": "code",
   "execution_count": null,
   "id": "33256982",
   "metadata": {},
   "outputs": [],
   "source": [
    "#     #Check length of list\n",
    "#     print(len(mse_losses_test_split_from_training))\n",
    "#     print(len(mse_losses_test_normal))\n",
    "#     print(len(mse_losses_test_anomaly))\n",
    "\n",
    "#Plot the losses\n",
    "plt.figure(figsize=(10,4))\n",
    "plt.plot(mse_losses_train_normal, label='loss normal train samples')\n",
    "plt.plot(mse_losses_test_normal, label='loss normal test samples')\n",
    "plt.plot(mse_losses_test_anomaly, label='loss anomaly test samples')\n",
    "plt.title('Mse losses of different type of samples')\n",
    "plt.legend()\n",
    "plt.xlim(0,300)\n",
    "plt.ylim(1,1.01)\n",
    "plt.show()"
   ]
  },
  {
   "cell_type": "code",
   "execution_count": null,
   "id": "e06cbead",
   "metadata": {},
   "outputs": [],
   "source": [
    "#Plot the losses\n",
    "plt.figure(figsize=(10,4))\n",
    "plt.plot(np.sort(mse_losses_train_normal), label='loss normal train samples')\n",
    "plt.plot(np.sort(mse_losses_test_normal), label='loss normal test samples')\n",
    "plt.plot(np.sort(mse_losses_test_anomaly), label='loss anomaly test samples')\n",
    "plt.title('Mse losses of different type of samples')\n",
    "plt.legend()\n",
    "plt.xlim(0,2640)\n",
    "plt.ylim(1,1.02)\n",
    "plt.show()"
   ]
  },
  {
   "cell_type": "code",
   "execution_count": null,
   "id": "cfa1e883",
   "metadata": {},
   "outputs": [],
   "source": [
    "X_train_normal_pred=[]\n",
    "for sample in X_train_normal_2:\n",
    "    sample_exp = np.expand_dims(sample, 0)\n",
    "    sample_pred=autoencoder.predict(sample_exp, verbose=0)\n",
    "    X_train_normal_pred.append(sample_pred)\n",
    "X_train_normal_pred_2=np.squeeze(X_train_normal_pred,1)\n",
    "print(np.shape(X_train_normal_pred_2))\n",
    "\n",
    "X_test_normal_pred=[]\n",
    "for sample in X_test_normal_2:\n",
    "    sample_exp = np.expand_dims(sample, 0)\n",
    "    sample_pred=autoencoder.predict(sample_exp, verbose=0)\n",
    "    X_test_normal_pred.append(sample_pred)\n",
    "X_test_normal_pred_2=np.squeeze(X_test_normal_pred,1)\n",
    "print(np.shape(X_test_normal_pred_2))"
   ]
  },
  {
   "cell_type": "code",
   "execution_count": null,
   "id": "e63c7968",
   "metadata": {},
   "outputs": [],
   "source": [
    "X_anomaly= X[y == 0]\n",
    "X_anomaly = load_data(X_anomaly[\"filepath\"])\n",
    "\n",
    "X_anomaly_2=np.pad(X_anomaly, pad_width=((0,0),(0,7),(0,2),(0,0)), constant_values=0)\n",
    "X_anomaly_pred=[]\n",
    "for sample in X_anomaly_2:\n",
    "    sample_exp = np.expand_dims(sample, 0)\n",
    "    sample_pred=autoencoder.predict(sample_exp, verbose=0)\n",
    "    X_anomaly_pred.append(sample_pred)\n",
    "X_anomaly_pred_2=np.squeeze(X_anomaly_pred,1)\n",
    "print(np.shape(X_anomaly_pred_2))  "
   ]
  },
  {
   "cell_type": "code",
   "execution_count": null,
   "id": "9bf08087",
   "metadata": {},
   "outputs": [],
   "source": [
    "liste_anomaly=[]\n",
    "for sample, sample_pred in zip(X_anomaly_2, X_anomaly_pred_2):\n",
    "    maxi=(np.abs(sample - sample_pred).mean(axis=1).max()*2)\n",
    "    liste_anomaly.append(maxi)\n",
    "    \n",
    "liste_test=[]\n",
    "for sample, sample_pred in zip(X_test_normal_2, X_test_normal_pred_2):\n",
    "    maxi=(np.abs(sample - sample_pred).mean(axis=1).max()*2)\n",
    "    liste_test.append(maxi)\n",
    "    \n",
    "liste_train=[]\n",
    "for sample, sample_pred in zip(X_train_normal_2, X_train_normal_pred_2):\n",
    "    maxi=(np.abs(sample - sample_pred).mean(axis=1).max()*2)\n",
    "    liste_train.append(maxi)"
   ]
  },
  {
   "cell_type": "code",
   "execution_count": null,
   "id": "a938374d",
   "metadata": {},
   "outputs": [],
   "source": [
    "#Plot the losses\n",
    "plt.figure(figsize=(10,4))\n",
    "plt.plot(liste_train, label='loss normal train samples')\n",
    "plt.plot(liste_test, label='loss normal test samples')\n",
    "plt.plot(liste_anomaly, label='loss anomaly test samples')\n",
    "plt.title('Mse losses of different type of samples')\n",
    "plt.legend()\n",
    "plt.xlim(0,400)\n",
    "plt.ylim(0,0.5)\n",
    "plt.show()"
   ]
  },
  {
   "cell_type": "code",
   "execution_count": null,
   "id": "dfb50bfd",
   "metadata": {},
   "outputs": [],
   "source": [
    "#Plot the losses\n",
    "plt.figure(figsize=(10,4))\n",
    "plt.plot(np.sort(liste_train), label='loss normal train samples')\n",
    "plt.plot(np.sort(liste_test), label='loss normal test samples')\n",
    "plt.plot(np.sort(liste_anomaly), label='loss anomaly test samples')\n",
    "plt.title('Mse losses of different type of samples')\n",
    "plt.legend()\n",
    "plt.xlim(0,2640)\n",
    "plt.ylim(0,0.9)\n",
    "plt.show()"
   ]
  },
  {
   "cell_type": "markdown",
   "id": "9f56c7dd",
   "metadata": {},
   "source": [
    "#### nous observons que l'on peut distinguer les anomalies d'une bonne partie des echantillons normales mais c'est loin d'etre suffisant notamment face au echantillon test normaux et une bonne moitié des train normaux"
   ]
  },
  {
   "cell_type": "markdown",
   "id": "b787bef9",
   "metadata": {},
   "source": [
    "## Essai autoencoder- logFT + augmentation résolution"
   ]
  },
  {
   "cell_type": "code",
   "execution_count": null,
   "id": "acb1d720",
   "metadata": {},
   "outputs": [],
   "source": [
    "## relaunch kernel and 3 first cell to avoid memory saturation"
   ]
  },
  {
   "cell_type": "code",
   "execution_count": 4,
   "id": "719c3b94",
   "metadata": {},
   "outputs": [],
   "source": [
    "def load_data_2(audio_path, dt=0.03):\n",
    "    Y_audio=[]\n",
    "    for i, a_path in enumerate(audio_path):\n",
    "        # On charge les fichiers audio depuis les chemins\n",
    "        data, fe = load_audio(a_path)\n",
    "        spectre_ft = np.abs(librosa.stft(data, n_fft= int(fe*dt), hop_length = int(fe*dt)))\n",
    "        Y_soundb1 = np.abs(spectre_ft) ** 2\n",
    "        Y_log_soundb1 = librosa.power_to_db(Y_soundb1)\n",
    "        Y_audio.append(Y_log_soundb1)\n",
    "    a_audio = np.expand_dims(Y_audio, 3)\n",
    "    return np.array(a_audio)\n",
    "\n",
    "def load_data_3(audio_path, dt=0.03):\n",
    "    Y_audio=[]\n",
    "    for i, a_path in enumerate(audio_path):\n",
    "        # On charge les fichiers audio depuis les chemins\n",
    "        data, fe = load_audio(a_path)\n",
    "        spectre_ft = np.abs(librosa.stft(data, n_fft= int(fe*dt/4), hop_length = int(fe*dt*4)))\n",
    "        Y_soundb1 = np.abs(spectre_ft) ** 2\n",
    "        Y_log_soundb1 = librosa.power_to_db(Y_soundb1)\n",
    "        Y_audio.append(Y_log_soundb1)\n",
    "    a_audio = np.expand_dims(Y_audio, 3)\n",
    "    return np.array(a_audio)"
   ]
  },
  {
   "cell_type": "code",
   "execution_count": 5,
   "id": "f20e9e29",
   "metadata": {},
   "outputs": [
    {
     "name": "stderr",
     "output_type": "stream",
     "text": [
      "C:\\Users\\sylv_\\AppData\\Local\\Temp\\ipykernel_12368\\2740062068.py:3: FutureWarning: In a future version of pandas all arguments of DataFrame.drop except for the argument 'labels' will be keyword-only.\n",
      "  X= df0.drop(['sound_type'],1)\n"
     ]
    }
   ],
   "source": [
    "df0 = df_valve # to change for other machines\n",
    "df0 = df0.replace(to_replace = ['normal', 'anomaly'], value = [1, 0])\n",
    "X= df0.drop(['sound_type'],1)\n",
    "y=df0.sound_type\n",
    "X_normal= X[y == 1]\n",
    "X_anomaly= X[y == 0]\n",
    "\n",
    "X_train_normal,X_test_normal = train_test_split(X_normal[\"filepath\"] , test_size=0.2)\n",
    "\n",
    "X_train_normal_hr = load_data_2(X_train_normal)\n",
    "X_test_normal_hr = load_data_2(X_test_normal)\n",
    "X_train_normal_lr = load_data_3(X_train_normal)\n",
    "X_test_normal_lr = load_data_3(X_test_normal)"
   ]
  },
  {
   "cell_type": "code",
   "execution_count": 6,
   "id": "9dc134ea",
   "metadata": {},
   "outputs": [
    {
     "name": "stdout",
     "output_type": "stream",
     "text": [
      "(2640, 241, 334, 1)\n",
      "(660, 61, 84, 1)\n"
     ]
    }
   ],
   "source": [
    "print(X_train_normal_hr.shape)\n",
    "print(X_test_normal_lr.shape)"
   ]
  },
  {
   "cell_type": "code",
   "execution_count": 7,
   "id": "a2e42e79",
   "metadata": {},
   "outputs": [
    {
     "name": "stdout",
     "output_type": "stream",
     "text": [
      "(2640, 248, 336, 1)\n",
      "(2640, 62, 84, 1)\n"
     ]
    }
   ],
   "source": [
    "X_train_normal_hr_2= np.pad(X_train_normal_hr, pad_width=((0,0),(0,7),(0,2),(0,0)), constant_values=0)\n",
    "X_test_normal_hr_2= np.pad(X_test_normal_hr, pad_width=((0,0),(0,7),(0,2),(0,0)), constant_values=0)\n",
    "X_train_normal_lr_2= np.pad(X_train_normal_lr, pad_width=((0,0),(0,1),(0,0),(0,0)), constant_values=0)\n",
    "X_test_normal_lr_2= np.pad(X_test_normal_lr, pad_width=((0,0),(0,1),(0,0),(0,0)), constant_values=0)\n",
    "print(X_train_normal_hr_2.shape)\n",
    "print(X_train_normal_lr_2.shape)"
   ]
  },
  {
   "cell_type": "code",
   "execution_count": 8,
   "id": "0c6ba0ed",
   "metadata": {},
   "outputs": [],
   "source": [
    "from tensorflow.keras.utils import Sequence\n",
    "import numpy as np   \n",
    "\n",
    "class DataGenerator(Sequence):\n",
    "    def __init__(self, x_set, y_set, batch_size):\n",
    "        self.x, self.y = x_set, y_set\n",
    "        self.batch_size = batch_size\n",
    "\n",
    "    def __len__(self):\n",
    "        return int(np.ceil(len(self.x) / float(self.batch_size)))\n",
    "\n",
    "    def __getitem__(self, idx):\n",
    "        batch_x = self.x[idx * self.batch_size:(idx + 1) * self.batch_size]\n",
    "        batch_y = self.y[idx * self.batch_size:(idx + 1) * self.batch_size]\n",
    "        return batch_x, batch_y\n",
    "\n",
    "train_gen2 = DataGenerator(X_train_normal_lr_2,X_train_normal_hr_2, 20)\n",
    "test_gen2 = DataGenerator(X_test_normal_lr_2,X_test_normal_hr_2,20)"
   ]
  },
  {
   "cell_type": "code",
   "execution_count": 9,
   "id": "260047c7",
   "metadata": {},
   "outputs": [
    {
     "name": "stdout",
     "output_type": "stream",
     "text": [
      "Model: \"sequential\"\n",
      "_________________________________________________________________\n",
      " Layer (type)                Output Shape              Param #   \n",
      "=================================================================\n",
      " conv2d (Conv2D)             (None, 60, 82, 64)        640       \n",
      "                                                                 \n",
      " max_pooling2d (MaxPooling2D  (None, 30, 41, 64)       0         \n",
      " )                                                               \n",
      "                                                                 \n",
      " conv2d_1 (Conv2D)           (None, 28, 39, 32)        18464     \n",
      "                                                                 \n",
      " max_pooling2d_1 (MaxPooling  (None, 14, 19, 32)       0         \n",
      " 2D)                                                             \n",
      "                                                                 \n",
      " dropout (Dropout)           (None, 14, 19, 32)        0         \n",
      "                                                                 \n",
      " flatten (Flatten)           (None, 8512)              0         \n",
      "                                                                 \n",
      " dense (Dense)               (None, 15)                127695    \n",
      "                                                                 \n",
      " dense_1 (Dense)             (None, 15)                240       \n",
      "                                                                 \n",
      " dense_2 (Dense)             (None, 166656)            2666496   \n",
      "                                                                 \n",
      " reshape (Reshape)           (None, 62, 84, 32)        0         \n",
      "                                                                 \n",
      " up_sampling2d (UpSampling2D  (None, 124, 168, 32)     0         \n",
      " )                                                               \n",
      "                                                                 \n",
      " conv2d_2 (Conv2D)           (None, 124, 168, 32)      9248      \n",
      "                                                                 \n",
      " up_sampling2d_1 (UpSampling  (None, 248, 336, 32)     0         \n",
      " 2D)                                                             \n",
      "                                                                 \n",
      " conv2d_3 (Conv2D)           (None, 248, 336, 1)       289       \n",
      "                                                                 \n",
      "=================================================================\n",
      "Total params: 2,823,072\n",
      "Trainable params: 2,823,072\n",
      "Non-trainable params: 0\n",
      "_________________________________________________________________\n"
     ]
    }
   ],
   "source": [
    "from tensorflow.keras.layers import UpSampling2D,Reshape\n",
    "\n",
    "autoencoder2= Sequential()\n",
    "\n",
    "encodeur_1= Conv2D(64, kernel_size=(3, 3), activation='linear', input_shape=X_train_normal_lr_2.shape[1:])\n",
    "encodeur_2= MaxPooling2D(pool_size=(2, 2))\n",
    "encodeur_3= Conv2D(32, kernel_size=(3, 3), activation='linear')\n",
    "encodeur_4= MaxPooling2D(pool_size=(2, 2))\n",
    "encodeur_5= Dropout(0.25)\n",
    "encodeur_6= Flatten()\n",
    "\n",
    "encodeur_7= Dense(15, activation='linear')\n",
    "encodeur_8= Dense(15, activation='relu')\n",
    "decodeur_0= Dense(166656, activation='linear')\n",
    "\n",
    "decodeur_1= Reshape((62, 84, 32))\n",
    "decodeur_2= UpSampling2D((2, 2))\n",
    "decodeur_3= Conv2D(32, kernel_size=(3, 3), activation='linear', padding='same')\n",
    "decodeur_4= UpSampling2D((2, 2))\n",
    "\n",
    "decodeur_5= Conv2D(1, kernel_size=(3, 3), activation='linear', padding='same')\n",
    "\n",
    "\n",
    "\n",
    "autoencoder2.add(encodeur_1)\n",
    "autoencoder2.add(encodeur_2)\n",
    "autoencoder2.add(encodeur_3)\n",
    "autoencoder2.add(encodeur_4)\n",
    "autoencoder2.add(encodeur_5)\n",
    "autoencoder2.add(encodeur_6)\n",
    "autoencoder2.add(encodeur_7)\n",
    "autoencoder2.add(encodeur_8)\n",
    "\n",
    "autoencoder2.add(decodeur_0)\n",
    "autoencoder2.add(decodeur_1)\n",
    "autoencoder2.add(decodeur_2)\n",
    "autoencoder2.add(decodeur_3)\n",
    "autoencoder2.add(decodeur_4)\n",
    "autoencoder2.add(decodeur_5)\n",
    "\n",
    "\n",
    "autoencoder2.compile(loss = 'mse',optimizer = 'adam',metrics = ['accuracy'])\n",
    "autoencoder2.summary()"
   ]
  },
  {
   "cell_type": "code",
   "execution_count": 10,
   "id": "ff491837",
   "metadata": {},
   "outputs": [
    {
     "name": "stdout",
     "output_type": "stream",
     "text": [
      "Epoch 1/8\n",
      "132/132 [==============================] - 9s 39ms/step - loss: 77.4666 - accuracy: 0.0264 - val_loss: 44.9931 - val_accuracy: 0.0314\n",
      "Epoch 2/8\n",
      "132/132 [==============================] - 5s 38ms/step - loss: 46.0247 - accuracy: 0.0307 - val_loss: 44.6030 - val_accuracy: 0.0326\n",
      "Epoch 3/8\n",
      "132/132 [==============================] - 5s 38ms/step - loss: 43.5046 - accuracy: 0.0283 - val_loss: 41.1821 - val_accuracy: 0.0297\n",
      "Epoch 4/8\n",
      "132/132 [==============================] - 5s 38ms/step - loss: 42.1414 - accuracy: 0.0292 - val_loss: 41.8300 - val_accuracy: 0.0314\n",
      "Epoch 5/8\n",
      "132/132 [==============================] - 5s 38ms/step - loss: 41.9950 - accuracy: 0.0295 - val_loss: 45.2097 - val_accuracy: 0.0279\n",
      "Epoch 6/8\n",
      "132/132 [==============================] - 5s 38ms/step - loss: 41.4841 - accuracy: 0.0295 - val_loss: 40.1381 - val_accuracy: 0.0306\n",
      "Epoch 7/8\n",
      "132/132 [==============================] - 5s 38ms/step - loss: 41.0003 - accuracy: 0.0304 - val_loss: 39.9947 - val_accuracy: 0.0322\n",
      "Epoch 8/8\n",
      "132/132 [==============================] - 5s 38ms/step - loss: 41.0052 - accuracy: 0.0301 - val_loss: 39.9526 - val_accuracy: 0.0320\n"
     ]
    }
   ],
   "source": [
    "history_autoencoder2=autoencoder2.fit(train_gen2, epochs=8, validation_data= test_gen2)"
   ]
  },
  {
   "cell_type": "code",
   "execution_count": 11,
   "id": "26719ef3",
   "metadata": {},
   "outputs": [
    {
     "data": {
      "image/png": "[encoded data removed]",
      "text/plain": [
       "<Figure size 576x360 with 1 Axes>"
      ]
     },
     "metadata": {
      "needs_background": "light"
     },
     "output_type": "display_data"
    }
   ],
   "source": [
    "plt.figure(figsize=(8, 5))\n",
    "\n",
    "plt.plot(history_autoencoder2.history['loss'], linewidth=2, label='Train')\n",
    "plt.plot(history_autoencoder2.history['val_loss'], linewidth=2, label='Validation')\n",
    "\n",
    "plt.xlabel('Epoque')\n",
    "plt.ylabel('Perte')\n",
    "plt.title('Evolution de la fonction de perte', fontsize=15)\n",
    "plt.legend()\n",
    "plt.show()"
   ]
  },
  {
   "cell_type": "code",
   "execution_count": 18,
   "id": "2408448f",
   "metadata": {},
   "outputs": [
    {
     "name": "stdout",
     "output_type": "stream",
     "text": [
      "(2640, 248, 336, 1)\n",
      "(660, 248, 336, 1)\n"
     ]
    }
   ],
   "source": [
    "X_train_normal_pred=[]\n",
    "for sample in X_train_normal_lr_2:\n",
    "    sample_exp = np.expand_dims(sample, 0)\n",
    "    sample_pred=autoencoder2.predict(sample_exp, verbose=0)\n",
    "    X_train_normal_pred.append(sample_pred)\n",
    "X_train_normal_pred_2=np.squeeze(X_train_normal_pred,1)\n",
    "print(np.shape(X_train_normal_pred_2))\n",
    "\n",
    "X_test_normal_pred=[]\n",
    "for sample in X_test_normal_lr_2:\n",
    "    sample_exp = np.expand_dims(sample, 0)\n",
    "    sample_pred=autoencoder2.predict(sample_exp, verbose=0)\n",
    "    X_test_normal_pred.append(sample_pred)\n",
    "X_test_normal_pred_2=np.squeeze(X_test_normal_pred,1)\n",
    "print(np.shape(X_test_normal_pred_2))"
   ]
  },
  {
   "cell_type": "code",
   "execution_count": 20,
   "id": "3dadf5f9",
   "metadata": {},
   "outputs": [
    {
     "name": "stdout",
     "output_type": "stream",
     "text": [
      "(300, 248, 336, 1)\n"
     ]
    }
   ],
   "source": [
    "X_anomaly= X[y == 0]\n",
    "X_anomaly_hr = load_data_2(X_anomaly[\"filepath\"])\n",
    "X_anomaly_lr = load_data_3(X_anomaly[\"filepath\"])\n",
    "X_anomaly_hr_2=np.pad(X_anomaly_hr, pad_width=((0,0),(0,7),(0,2),(0,0)), constant_values=0)\n",
    "X_anomaly_lr_2=np.pad(X_anomaly_lr, pad_width=((0,0),(0,1),(0,0),(0,0)), constant_values=0)\n",
    "\n",
    "X_anomaly_pred=[]\n",
    "for sample in X_anomaly_lr_2:\n",
    "    sample_exp = np.expand_dims(sample, 0)\n",
    "    sample_pred=autoencoder2.predict(sample_exp, verbose=0)\n",
    "    X_anomaly_pred.append(sample_pred)\n",
    "X_anomaly_pred_2=np.squeeze(X_anomaly_pred,1)\n",
    "print(np.shape(X_anomaly_pred_2))  "
   ]
  },
  {
   "cell_type": "code",
   "execution_count": 38,
   "id": "8c50738f",
   "metadata": {},
   "outputs": [],
   "source": [
    "liste_anomaly=[]\n",
    "for sample, sample_pred in zip(X_anomaly_hr_2, X_anomaly_pred_2):\n",
    "    #maxi=(np.abs(sample - sample_pred).mean(axis=1).max()*2)\n",
    "    maxi=1/((np.abs(sample - sample_pred).mean(axis=1).max()- np.abs(sample - sample_pred).mean(axis=1).mean()) / \n",
    "            (np.abs(sample - sample_pred).mean(axis=1).max()- np.abs(sample - sample_pred).mean(axis=1).min()))\n",
    "    liste_anomaly.append(maxi)\n",
    "    \n",
    "liste_test=[]\n",
    "for sample, sample_pred in zip(X_test_normal_hr_2, X_test_normal_pred_2):\n",
    "    #maxi=(np.abs(sample - sample_pred).mean(axis=1).max()*2)\n",
    "    maxi=1/((np.abs(sample - sample_pred).mean(axis=1).max()- np.abs(sample - sample_pred).mean(axis=1).mean()) / \n",
    "            (np.abs(sample - sample_pred).mean(axis=1).max()- np.abs(sample - sample_pred).mean(axis=1).min()))\n",
    "    liste_test.append(maxi)\n",
    "    \n",
    "liste_train=[]\n",
    "for sample, sample_pred in zip(X_train_normal_hr_2, X_train_normal_pred_2):\n",
    "    #maxi=(np.abs(sample - sample_pred).mean(axis=1).max()*2)\n",
    "    maxi=1/((np.abs(sample - sample_pred).mean(axis=1).max()- np.abs(sample - sample_pred).mean(axis=1).mean()) / \n",
    "            (np.abs(sample - sample_pred).mean(axis=1).max()- np.abs(sample - sample_pred).mean(axis=1).min()))\n",
    "    liste_train.append(maxi)"
   ]
  },
  {
   "cell_type": "code",
   "execution_count": 39,
   "id": "fd1c34fd",
   "metadata": {},
   "outputs": [
    {
     "data": {
      "image/png": "[encoded data removed]",
      "text/plain": [
       "<Figure size 720x288 with 1 Axes>"
      ]
     },
     "metadata": {
      "needs_background": "light"
     },
     "output_type": "display_data"
    }
   ],
   "source": [
    "#Plot the losses\n",
    "plt.figure(figsize=(10,4))\n",
    "plt.plot(liste_train, label='loss normal train samples')\n",
    "plt.plot(liste_test, label='loss normal test samples')\n",
    "plt.plot(liste_anomaly, label='loss anomaly test samples')\n",
    "plt.title('Mse losses of different type of samples')\n",
    "plt.legend()\n",
    "plt.xlim(0,700)\n",
    "plt.ylim(0,5)\n",
    "plt.show()"
   ]
  },
  {
   "cell_type": "code",
   "execution_count": 40,
   "id": "0f9c40f2",
   "metadata": {
    "scrolled": true
   },
   "outputs": [
    {
     "data": {
      "image/png": "[encoded data removed]",
      "text/plain": [
       "<Figure size 720x288 with 1 Axes>"
      ]
     },
     "metadata": {
      "needs_background": "light"
     },
     "output_type": "display_data"
    }
   ],
   "source": [
    "#Plot the losses\n",
    "plt.figure(figsize=(10,4))\n",
    "plt.plot(np.sort(liste_train), label='loss normal train samples')\n",
    "plt.plot(np.sort(liste_test), label='loss normal test samples')\n",
    "plt.plot(np.sort(liste_anomaly), label='loss anomaly test samples')\n",
    "plt.title('Mse losses of different type of samples')\n",
    "plt.legend()\n",
    "plt.xlim(0,2640)\n",
    "plt.ylim(0,5)\n",
    "plt.show()"
   ]
  },
  {
   "cell_type": "markdown",
   "id": "f2093394",
   "metadata": {},
   "source": [
    "#### pas satisfaisant"
   ]
  }
 ],
 "metadata": {
  "kernelspec": {
   "display_name": "TensorFlowGPU",
   "language": "python",
   "name": "ml_env"
  },
  "language_info": {
   "codemirror_mode": {
    "name": "ipython",
    "version": 3
   },
   "file_extension": ".py",
   "mimetype": "text/x-python",
   "name": "python",
   "nbconvert_exporter": "python",
   "pygments_lexer": "ipython3",
   "version": "3.9.16"
  }
 },
 "nbformat": 4,
 "nbformat_minor": 5
}
