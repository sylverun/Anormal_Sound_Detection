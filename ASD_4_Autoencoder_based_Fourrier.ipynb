{
 "cells": [
  {
   "cell_type": "markdown",
   "id": "5b085ed1",
   "metadata": {},
   "source": [
    "# Some tries for Fourrier transform-based autoencoder"
   ]
  },
  {
   "cell_type": "code",
   "execution_count": 1,
   "id": "f9e79061",
   "metadata": {},
   "outputs": [],
   "source": [
    "#Let's first import the module that we will need\n",
    "%matplotlib inline\n",
    "import librosa\n",
    "import librosa.display\n",
    "import IPython.display as ipd\n",
    "import os\n",
    "import pandas as pd\n",
    "import matplotlib.pyplot as plt\n",
    "import seaborn as sns\n",
    "import math\n",
    "import numpy as np\n",
    "import xgboost as xgb\n",
    "from sklearn.model_selection import train_test_split\n",
    "import pywt\n",
    "from tensorflow.keras.models import Sequential, Model\n",
    "from tensorflow.keras.layers import Dense, Activation, Input\n",
    "from tensorflow.keras.layers import Dropout\n",
    "from tensorflow.keras.layers import Flatten\n",
    "from tensorflow.keras.layers import Conv2D,Conv1D\n",
    "from tensorflow.keras.layers import MaxPooling2D\n",
    "from keras.utils import to_categorical\n",
    "\n",
    "import matplotlib.pyplot as plt\n",
    "from matplotlib import cm\n",
    "\n",
    "from sklearn import metrics\n",
    "\n",
    "import itertools"
   ]
  },
  {
   "cell_type": "code",
   "execution_count": 2,
   "id": "b9707302",
   "metadata": {},
   "outputs": [],
   "source": [
    "#Constant used throughout the notebook\n",
    "PATH_TRAINING_DATASET = r\"C:\\Users\\sylv_\\Documents\\audio for asd\""
   ]
  },
  {
   "cell_type": "code",
   "execution_count": 3,
   "id": "ecf6ccc2",
   "metadata": {},
   "outputs": [
    {
     "name": "stdout",
     "output_type": "stream",
     "text": [
      "<class 'pandas.core.frame.DataFrame'>\n",
      "RangeIndex: 3600 entries, 0 to 3599\n",
      "Data columns (total 8 columns):\n",
      " #   Column      Non-Null Count  Dtype \n",
      "---  ------      --------------  ----- \n",
      " 0   filepath    3600 non-null   object\n",
      " 1   filename    3600 non-null   object\n",
      " 2   section     3600 non-null   int64 \n",
      " 3   domain_env  3600 non-null   object\n",
      " 4   dir         3600 non-null   object\n",
      " 5   sound_type  3600 non-null   object\n",
      " 6   id          3600 non-null   object\n",
      " 7   suffix      3600 non-null   object\n",
      "dtypes: int64(1), object(7)\n",
      "memory usage: 225.1+ KB\n"
     ]
    },
    {
     "data": {
      "text/html": [
       "<div>\n",
       "<style scoped>\n",
       "    .dataframe tbody tr th:only-of-type {\n",
       "        vertical-align: middle;\n",
       "    }\n",
       "\n",
       "    .dataframe tbody tr th {\n",
       "        vertical-align: top;\n",
       "    }\n",
       "\n",
       "    .dataframe thead th {\n",
       "        text-align: right;\n",
       "    }\n",
       "</style>\n",
       "<table border=\"1\" class=\"dataframe\">\n",
       "  <thead>\n",
       "    <tr style=\"text-align: right;\">\n",
       "      <th></th>\n",
       "      <th>filepath</th>\n",
       "      <th>filename</th>\n",
       "      <th>section</th>\n",
       "      <th>domain_env</th>\n",
       "      <th>dir</th>\n",
       "      <th>sound_type</th>\n",
       "      <th>id</th>\n",
       "      <th>suffix</th>\n",
       "    </tr>\n",
       "  </thead>\n",
       "  <tbody>\n",
       "    <tr>\n",
       "      <th>0</th>\n",
       "      <td>C:\\Users\\sylv_\\Documents\\audio for asd\\dev_fan...</td>\n",
       "      <td>section_00_source_train_normal_0000_m-n_W.wav</td>\n",
       "      <td>0</td>\n",
       "      <td>source</td>\n",
       "      <td>train</td>\n",
       "      <td>normal</td>\n",
       "      <td>0000</td>\n",
       "      <td>m-n_W.wav</td>\n",
       "    </tr>\n",
       "    <tr>\n",
       "      <th>1</th>\n",
       "      <td>C:\\Users\\sylv_\\Documents\\audio for asd\\dev_fan...</td>\n",
       "      <td>section_00_source_train_normal_0001_m-n_X.wav</td>\n",
       "      <td>0</td>\n",
       "      <td>source</td>\n",
       "      <td>train</td>\n",
       "      <td>normal</td>\n",
       "      <td>0001</td>\n",
       "      <td>m-n_X.wav</td>\n",
       "    </tr>\n",
       "    <tr>\n",
       "      <th>2</th>\n",
       "      <td>C:\\Users\\sylv_\\Documents\\audio for asd\\dev_fan...</td>\n",
       "      <td>section_00_source_train_normal_0002_m-n_X.wav</td>\n",
       "      <td>0</td>\n",
       "      <td>source</td>\n",
       "      <td>train</td>\n",
       "      <td>normal</td>\n",
       "      <td>0002</td>\n",
       "      <td>m-n_X.wav</td>\n",
       "    </tr>\n",
       "    <tr>\n",
       "      <th>3</th>\n",
       "      <td>C:\\Users\\sylv_\\Documents\\audio for asd\\dev_fan...</td>\n",
       "      <td>section_00_source_train_normal_0003_m-n_W.wav</td>\n",
       "      <td>0</td>\n",
       "      <td>source</td>\n",
       "      <td>train</td>\n",
       "      <td>normal</td>\n",
       "      <td>0003</td>\n",
       "      <td>m-n_W.wav</td>\n",
       "    </tr>\n",
       "    <tr>\n",
       "      <th>4</th>\n",
       "      <td>C:\\Users\\sylv_\\Documents\\audio for asd\\dev_fan...</td>\n",
       "      <td>section_00_source_train_normal_0004_m-n_W.wav</td>\n",
       "      <td>0</td>\n",
       "      <td>source</td>\n",
       "      <td>train</td>\n",
       "      <td>normal</td>\n",
       "      <td>0004</td>\n",
       "      <td>m-n_W.wav</td>\n",
       "    </tr>\n",
       "  </tbody>\n",
       "</table>\n",
       "</div>"
      ],
      "text/plain": [
       "                                            filepath  \\\n",
       "0  C:\\Users\\sylv_\\Documents\\audio for asd\\dev_fan...   \n",
       "1  C:\\Users\\sylv_\\Documents\\audio for asd\\dev_fan...   \n",
       "2  C:\\Users\\sylv_\\Documents\\audio for asd\\dev_fan...   \n",
       "3  C:\\Users\\sylv_\\Documents\\audio for asd\\dev_fan...   \n",
       "4  C:\\Users\\sylv_\\Documents\\audio for asd\\dev_fan...   \n",
       "\n",
       "                                        filename  section domain_env    dir  \\\n",
       "0  section_00_source_train_normal_0000_m-n_W.wav        0     source  train   \n",
       "1  section_00_source_train_normal_0001_m-n_X.wav        0     source  train   \n",
       "2  section_00_source_train_normal_0002_m-n_X.wav        0     source  train   \n",
       "3  section_00_source_train_normal_0003_m-n_W.wav        0     source  train   \n",
       "4  section_00_source_train_normal_0004_m-n_W.wav        0     source  train   \n",
       "\n",
       "  sound_type    id     suffix  \n",
       "0     normal  0000  m-n_W.wav  \n",
       "1     normal  0001  m-n_X.wav  \n",
       "2     normal  0002  m-n_X.wav  \n",
       "3     normal  0003  m-n_W.wav  \n",
       "4     normal  0004  m-n_W.wav  "
      ]
     },
     "execution_count": 3,
     "metadata": {},
     "output_type": "execute_result"
    }
   ],
   "source": [
    "def build_dataframe(machine_str = 'valve'):\n",
    "    #Get list of files in train and test directory\n",
    "    path_train_folder = PATH_TRAINING_DATASET + \"\\\\dev_\" + machine_str + \"\\\\\" + machine_str + \"\\\\train\"\n",
    "    path_test_folder = PATH_TRAINING_DATASET  + \"\\\\dev_\" + machine_str + \"\\\\\" + machine_str + \"\\\\test\"\n",
    "\n",
    "    train_files = [f for f in os.listdir(path_train_folder)]\n",
    "    test_files = [f for f in os.listdir(path_test_folder)]\n",
    "\n",
    "    #Get list of dictionnary for creating DataFrame\n",
    "    list_dict_file = []\n",
    "\n",
    "    #Loop through filenames\n",
    "    for filename in train_files:\n",
    "\n",
    "        #Get filename as list of string\n",
    "        splitted_filename = filename.split('_')\n",
    "\n",
    "        #Append dictionnary to list\n",
    "        list_dict_file.append({\n",
    "            'filepath' : path_train_folder + \"\\\\\" + filename,\n",
    "            'filename' : filename,\n",
    "            'section' : int(splitted_filename[1]),\n",
    "            'domain_env' : splitted_filename[2],\n",
    "            'dir' : splitted_filename[3],\n",
    "            'sound_type' : splitted_filename[4],\n",
    "            'id' : splitted_filename[5],\n",
    "            'suffix' : '_'.join(splitted_filename[6:])        #.split('.')[0]  --> want to keep the complete suffix\n",
    "        })\n",
    "\n",
    "    #Loop through filenames\n",
    "    for filename in test_files:\n",
    "\n",
    "        #Get filename as list of string\n",
    "        splitted_filename = filename.split('_')\n",
    "\n",
    "        #Append dictionnary to list\n",
    "        list_dict_file.append({\n",
    "            'filepath' : path_test_folder  + \"\\\\\" + filename,\n",
    "            'filename' : filename,\n",
    "            'section' : int(splitted_filename[1]),\n",
    "            'domain_env' : splitted_filename[2],\n",
    "            'dir' : splitted_filename[3],\n",
    "            'sound_type' : splitted_filename[4],\n",
    "            'id' : splitted_filename[5],\n",
    "            'suffix' : '_'.join(splitted_filename[6:])     #.split('.')[0]  --> want to keep the complete suffix\n",
    "        })\n",
    "        \n",
    "    return pd.DataFrame(list_dict_file)\n",
    "\n",
    "\n",
    "def sound_from_file(filename, machine_str = 'valve', dataset = 'train'):\n",
    "    df = build_dataframe(machine_str)\n",
    "    path = PATH_TRAINING_DATASET + \"\\\\dev_\" + machine_str + \"\\\\\" + machine_str + \"\\\\\" + dataset + \"\\\\\" + filename\n",
    "    return df[df['filepath']==path].iloc[0]\n",
    "    \n",
    "\n",
    "\n",
    "df_fan = build_dataframe('fan')\n",
    "df_valve = build_dataframe('valve')\n",
    "df_bearing = build_dataframe('bearing')\n",
    "df_slider = build_dataframe('slider')\n",
    "df_car = build_dataframe('ToyCar')\n",
    "df_train = build_dataframe('ToyTrain')\n",
    "df_gearbox = build_dataframe('gearbox')\n",
    "\n",
    "df_fan.info()\n",
    "df_fan.head()"
   ]
  },
  {
   "cell_type": "code",
   "execution_count": 20,
   "id": "07be15af",
   "metadata": {},
   "outputs": [],
   "source": [
    "def load_audio(audio_path):\n",
    "    return librosa.load(audio_path, sr=None)\n",
    "\n",
    "def logMelSpectrogram(audio, fe, dt):\n",
    "    # Spectrogramme\n",
    "    stfts = np.abs(librosa.stft(audio,\n",
    "                                n_fft=int(dt*fe),\n",
    "                                hop_length=int(dt*fe),\n",
    "                                center=True\n",
    "                                )).T\n",
    "    num_spectrogram_bins = stfts.shape[-1]\n",
    "    # Filtre de MEL\n",
    "    linear_to_mel_weight_matrix = librosa.filters.mel(\n",
    "        sr=fe,\n",
    "        n_fft=int(dt*fe) + 1,\n",
    "        n_mels=num_spectrogram_bins,\n",
    "    ).T\n",
    "\n",
    "    # Application du filtre au spectrogramme\n",
    "    mel_spectrograms = np.tensordot(\n",
    "        stfts,\n",
    "        linear_to_mel_weight_matrix,\n",
    "        1\n",
    "    )\n",
    "    return np.log(mel_spectrograms + 1e-6)\n",
    "\n",
    "def load_data(audio_path, dt=0.03):\n",
    "    X_audio = []\n",
    "    Y_audio=[]\n",
    "    Z_audio=[]\n",
    "    for i, a_path in enumerate(audio_path):\n",
    "        # On charge les fichiers audio depuis les chemins\n",
    "        data, fe = load_audio(a_path)\n",
    "\n",
    "        # On applique la fonction logMelSpectrogram.\n",
    "        #spectre_audio = logMelSpectrogram(data, fe, dt)\n",
    "        spectre_ft = np.abs(librosa.stft(data, n_fft= int(fe*dt), hop_length = int(fe*dt)))\n",
    "        #X_audio.append(spectre_audio)\n",
    "        Y_audio.append(spectre_ft)\n",
    "    a_audio = np.expand_dims(Y_audio, 3)\n",
    "        #coeff, freq = pywt.cwt(data,scales=np.arange(1,129), wavelet='morl')\n",
    "        #Z_audio.append(coeff)\n",
    "    return np.array(a_audio)\n",
    "\n",
    "\n",
    "def load_data_result(audio_path, dt=0.03):\n",
    "    X_audio = []\n",
    "    Y_audio=[]\n",
    "    Z_audio=[]\n",
    "    for i, a_path in enumerate(audio_path):\n",
    "        # On charge les fichiers audio depuis les chemins\n",
    "        data, fe = load_audio(a_path)\n",
    "        spectre_ft = np.abs(librosa.stft(data, n_fft= int(fe*dt), hop_length = int(fe*dt)))\n",
    "        Y_soundb1 = np.abs(spectre_ft) ** 2\n",
    "        Y_log_soundb1 = librosa.power_to_db(Y_soundb1)\n",
    "        Y_audio.append(Y_log_soundb1)\n",
    "    a_audio = np.expand_dims(Y_audio, 3)\n",
    "        #coeff, freq = pywt.cwt(data,scales=np.arange(1,129), wavelet='morl')\n",
    "        #Z_audio.append(coeff)\n",
    "    return np.array(a_audio)"
   ]
  },
  {
   "cell_type": "markdown",
   "id": "136bef33",
   "metadata": {},
   "source": [
    "## With Fourrier Transform on valve"
   ]
  },
  {
   "cell_type": "code",
   "execution_count": 13,
   "id": "1f751cd9",
   "metadata": {},
   "outputs": [],
   "source": [
    "df0 = df_valve # to change for other machines\n",
    "df0 = df0.replace(to_replace = ['normal', 'anomaly'], value = [1, 0])"
   ]
  },
  {
   "cell_type": "code",
   "execution_count": 14,
   "id": "b3bb01c6",
   "metadata": {},
   "outputs": [
    {
     "name": "stderr",
     "output_type": "stream",
     "text": [
      "C:\\Users\\sylv_\\AppData\\Local\\Temp\\ipykernel_8736\\3654273926.py:1: FutureWarning: In a future version of pandas all arguments of DataFrame.drop except for the argument 'labels' will be keyword-only.\n",
      "  X= df0.drop(['sound_type'],1)\n"
     ]
    },
    {
     "name": "stdout",
     "output_type": "stream",
     "text": [
      "(1650, 241, 334, 1)\n",
      "(1650, 241, 334, 1)\n"
     ]
    }
   ],
   "source": [
    "X= df0.drop(['sound_type'],1)\n",
    "y=df0.sound_type\n",
    "\n",
    "X_normal= X[y == 1]\n",
    "X_anomaly= X[y == 0]\n",
    "\n",
    "X_train_normal,X_test_normal = train_test_split(X_normal[\"filepath\"] , test_size=0.5)\n",
    "\n",
    "X_train_normal = load_data(X_train_normal)\n",
    "X_test_normal = load_data(X_test_normal)\n",
    "print(X_train_normal.shape)\n",
    "print(X_test_normal.shape)"
   ]
  },
  {
   "cell_type": "code",
   "execution_count": 15,
   "id": "378fb48e",
   "metadata": {},
   "outputs": [
    {
     "name": "stdout",
     "output_type": "stream",
     "text": [
      "Model: \"sequential_2\"\n",
      "_________________________________________________________________\n",
      " Layer (type)                Output Shape              Param #   \n",
      "=================================================================\n",
      " conv2d_4 (Conv2D)           (None, 239, 332, 64)      640       \n",
      "                                                                 \n",
      " conv2d_5 (Conv2D)           (None, 237, 330, 32)      18464     \n",
      "                                                                 \n",
      " flatten_2 (Flatten)         (None, 2502720)           0         \n",
      "                                                                 \n",
      " dense_8 (Dense)             (None, 64)                160174144 \n",
      "                                                                 \n",
      " dense_9 (Dense)             (None, 10)                650       \n",
      "                                                                 \n",
      " dense_10 (Dense)            (None, 10)                110       \n",
      "                                                                 \n",
      " dense_11 (Dense)            (None, 80494)             885434    \n",
      "                                                                 \n",
      " reshape_2 (Reshape)         (None, 241, 334, 1)       0         \n",
      "                                                                 \n",
      " conv2d_transpose_6 (Conv2DT  (None, 241, 334, 32)     320       \n",
      " ranspose)                                                       \n",
      "                                                                 \n",
      " conv2d_transpose_7 (Conv2DT  (None, 241, 334, 64)     18496     \n",
      " ranspose)                                                       \n",
      "                                                                 \n",
      " conv2d_transpose_8 (Conv2DT  (None, 241, 334, 1)      577       \n",
      " ranspose)                                                       \n",
      "                                                                 \n",
      "=================================================================\n",
      "Total params: 161,098,835\n",
      "Trainable params: 161,098,835\n",
      "Non-trainable params: 0\n",
      "_________________________________________________________________\n"
     ]
    }
   ],
   "source": [
    "autoencoder= Sequential()\n",
    "from tensorflow.keras.layers import Conv2DTranspose, Reshape  \n",
    "encodeur_1= Conv2D(64, kernel_size=(3, 3), activation='relu',input_shape=X_train_normal.shape[1:])\n",
    "encodeur_2= Conv2D(32, kernel_size=(3, 3), activation='relu')\n",
    "encodeur_3= Flatten()\n",
    "encodeur_4= Dense(units= 64, activation='relu')\n",
    "encodeur_5= Dense(units= 10, activation='relu')\n",
    "\n",
    "decodeur_0= Dense(units= 10, activation='relu')\n",
    "decodeur_1= Dense(units= 80494, activation='relu')\n",
    "decodeur_2= Reshape((241,334,1))\n",
    "decodeur_3= Conv2DTranspose(32, kernel_size=(3, 3), activation='relu', padding='same')\n",
    "decodeur_4= Conv2DTranspose(64, kernel_size=(3, 3), activation='relu', padding='same')\n",
    "decodeur_5= Conv2DTranspose(1, kernel_size=(3, 3), activation='sigmoid', padding='same')\n",
    "\n",
    "autoencoder.add(encodeur_1)\n",
    "autoencoder.add(encodeur_2)\n",
    "autoencoder.add(encodeur_3)\n",
    "autoencoder.add(encodeur_4)\n",
    "autoencoder.add(encodeur_5)\n",
    "\n",
    "autoencoder.add(decodeur_0)\n",
    "autoencoder.add(decodeur_1)\n",
    "autoencoder.add(decodeur_2)\n",
    "autoencoder.add(decodeur_3)\n",
    "autoencoder.add(decodeur_4)\n",
    "autoencoder.add(decodeur_5)\n",
    "\n",
    "autoencoder.compile(loss='binary_crossentropy',optimizer='adam', metrics= ['mse'])\n",
    "autoencoder.summary()"
   ]
  },
  {
   "cell_type": "code",
   "execution_count": null,
   "id": "f6126725",
   "metadata": {
    "scrolled": false
   },
   "outputs": [],
   "source": [
    "history_autoencoder=autoencoder.fit(X_train_normal,X_train_normal, batch_size=20, \n",
    "                                    epochs=3 , validation_data= (X_test_normal,X_test_normal))"
   ]
  },
  {
   "cell_type": "code",
   "execution_count": null,
   "id": "9f0fad40",
   "metadata": {},
   "outputs": [],
   "source": [
    "plt.figure(figsize=(8, 5))\n",
    "\n",
    "plt.plot(history_autoencoder.history['loss'], linewidth=2, label='Train')\n",
    "plt.plot(history_autoencoder.history['val_loss'], linewidth=2, label='Validation')\n",
    "\n",
    "plt.xlabel('Epoque')\n",
    "plt.ylabel('Perte')\n",
    "plt.title('Evolution de la fonction de perte', fontsize=15)\n",
    "plt.legend()\n",
    "plt.show()"
   ]
  },
  {
   "cell_type": "code",
   "execution_count": null,
   "id": "6af262e0",
   "metadata": {},
   "outputs": [],
   "source": [
    "from tensorflow.keras.losses import mean_squared_error\n",
    "\n",
    "X_train_normal_pred=autoencoder.predict(X_train_normal)\n",
    "mse_train=mean_squared_error(X_train_normal,X_train_normal_pred)\n",
    "print(np.percentile(mse_train,q=95))\n",
    "\n",
    "X_test_normal_pred=autoencoder.predict(X_test_normal)\n",
    "mse_test=mean_squared_error(X_test_normal,X_test_normal_pred)\n",
    "print(np.percentile(mse_test,q=95))"
   ]
  },
  {
   "cell_type": "code",
   "execution_count": null,
   "id": "d7634970",
   "metadata": {},
   "outputs": [],
   "source": [
    "X_anomaly = load_data(X_anomaly[\"filepath\"])\n",
    "\n",
    "X_anomaly_pred=autoencoder.predict(X_anomaly)\n",
    "mse2=mean_squared_error(X_anomaly,X_anomaly_pred)\n",
    "print(np.percentile(mse2,q=95))"
   ]
  },
  {
   "cell_type": "code",
   "execution_count": 18,
   "id": "f5192a9b",
   "metadata": {},
   "outputs": [],
   "source": [
    "df0 = df_bearing\n",
    "df0 = df0.replace(to_replace = ['normal', 'anomaly'], value = [1, 0])"
   ]
  },
  {
   "cell_type": "code",
   "execution_count": 21,
   "id": "35f08dc0",
   "metadata": {},
   "outputs": [
    {
     "name": "stderr",
     "output_type": "stream",
     "text": [
      "C:\\Users\\sylv_\\AppData\\Local\\Temp\\ipykernel_8736\\2178017215.py:1: FutureWarning: In a future version of pandas all arguments of DataFrame.drop except for the argument 'labels' will be keyword-only.\n",
      "  X= df0.drop(['sound_type'],1)\n"
     ]
    },
    {
     "name": "stdout",
     "output_type": "stream",
     "text": [
      "(1649, 241, 334, 1)\n",
      "(1650, 241, 334, 1)\n"
     ]
    }
   ],
   "source": [
    "X= df0.drop(['sound_type'],1)\n",
    "y=df0.sound_type\n",
    "\n",
    "X_normal= X[y == 1]\n",
    "X_anomaly= X[y == 0]\n",
    "\n",
    "X_train_normal,X_test_normal = train_test_split(X_normal[\"filepath\"] , test_size=0.5)\n",
    "\n",
    "X_train_normal_r = load_data_result(X_train_normal)\n",
    "X_test_normal_r = load_data_result(X_test_normal)\n",
    "X_train_normal = load_data(X_train_normal)\n",
    "X_test_normal = load_data(X_test_normal)\n",
    "\n",
    "print(X_train_normal.shape)\n",
    "print(X_test_normal.shape)"
   ]
  },
  {
   "cell_type": "code",
   "execution_count": 22,
   "id": "801b159f",
   "metadata": {},
   "outputs": [
    {
     "name": "stdout",
     "output_type": "stream",
     "text": [
      "Model: \"sequential_3\"\n",
      "_________________________________________________________________\n",
      " Layer (type)                Output Shape              Param #   \n",
      "=================================================================\n",
      " conv2d_6 (Conv2D)           (None, 239, 332, 64)      640       \n",
      "                                                                 \n",
      " conv2d_7 (Conv2D)           (None, 237, 330, 32)      18464     \n",
      "                                                                 \n",
      " flatten_3 (Flatten)         (None, 2502720)           0         \n",
      "                                                                 \n",
      " dense_12 (Dense)            (None, 64)                160174144 \n",
      "                                                                 \n",
      " dense_13 (Dense)            (None, 10)                650       \n",
      "                                                                 \n",
      " dense_14 (Dense)            (None, 10)                110       \n",
      "                                                                 \n",
      " dense_15 (Dense)            (None, 80494)             885434    \n",
      "                                                                 \n",
      " reshape_3 (Reshape)         (None, 241, 334, 1)       0         \n",
      "                                                                 \n",
      " conv2d_transpose_9 (Conv2DT  (None, 241, 334, 32)     320       \n",
      " ranspose)                                                       \n",
      "                                                                 \n",
      " conv2d_transpose_10 (Conv2D  (None, 241, 334, 64)     18496     \n",
      " Transpose)                                                      \n",
      "                                                                 \n",
      " conv2d_transpose_11 (Conv2D  (None, 241, 334, 1)      577       \n",
      " Transpose)                                                      \n",
      "                                                                 \n",
      "=================================================================\n",
      "Total params: 161,098,835\n",
      "Trainable params: 161,098,835\n",
      "Non-trainable params: 0\n",
      "_________________________________________________________________\n"
     ]
    }
   ],
   "source": [
    "autoencoder= Sequential()\n",
    "from tensorflow.keras.layers import Conv2DTranspose, Reshape  \n",
    "encodeur_1= Conv2D(64, kernel_size=(3, 3), activation='relu',input_shape=X_train_normal.shape[1:])\n",
    "encodeur_2= Conv2D(32, kernel_size=(3, 3), activation='relu')\n",
    "encodeur_3= Flatten()\n",
    "encodeur_4= Dense(units= 64, activation='relu')\n",
    "encodeur_5= Dense(units= 10, activation='relu')\n",
    "\n",
    "decodeur_0= Dense(units= 10, activation='relu')\n",
    "decodeur_1= Dense(units= 80494, activation='relu')\n",
    "decodeur_2= Reshape((241,334,1))\n",
    "decodeur_3= Conv2DTranspose(32, kernel_size=(3, 3), activation='relu', padding='same')\n",
    "decodeur_4= Conv2DTranspose(64, kernel_size=(3, 3), activation='relu', padding='same')\n",
    "decodeur_5= Conv2DTranspose(1, kernel_size=(3, 3), activation='sigmoid', padding='same')\n",
    "\n",
    "autoencoder.add(encodeur_1)\n",
    "autoencoder.add(encodeur_2)\n",
    "autoencoder.add(encodeur_3)\n",
    "autoencoder.add(encodeur_4)\n",
    "autoencoder.add(encodeur_5)\n",
    "\n",
    "autoencoder.add(decodeur_0)\n",
    "autoencoder.add(decodeur_1)\n",
    "autoencoder.add(decodeur_2)\n",
    "autoencoder.add(decodeur_3)\n",
    "autoencoder.add(decodeur_4)\n",
    "autoencoder.add(decodeur_5)\n",
    "\n",
    "autoencoder.compile(loss='binary_crossentropy',optimizer='adam', metrics= ['mse'])\n",
    "autoencoder.summary()"
   ]
  },
  {
   "cell_type": "code",
   "execution_count": 23,
   "id": "27eed8ef",
   "metadata": {
    "scrolled": false
   },
   "outputs": [
    {
     "name": "stdout",
     "output_type": "stream",
     "text": [
      "Epoch 1/5\n",
      "83/83 [==============================] - 435s 5s/step - loss: -3363760640.0000 - mse: 1492.9272 - val_loss: -49732096000.0000 - val_mse: 1493.9558\n",
      "Epoch 2/5\n",
      "83/83 [==============================] - 428s 5s/step - loss: -29129357393920.0000 - mse: 1489.2543 - val_loss: -205196927959040.0000 - val_mse: 1493.9558\n",
      "Epoch 3/5\n",
      "83/83 [==============================] - 425s 5s/step - loss: -5674978406039552.0000 - mse: 1489.2540 - val_loss: -25503668274987008.0000 - val_mse: 1493.9558\n",
      "Epoch 4/5\n",
      "83/83 [==============================] - 423s 5s/step - loss: -212186537067020288.0000 - mse: 1489.2540 - val_loss: -700011362088124416.0000 - val_mse: 1493.9558\n",
      "Epoch 5/5\n",
      "83/83 [==============================] - 422s 5s/step - loss: -3161061844995538944.0000 - mse: 1489.2542 - val_loss: -8367017405561438208.0000 - val_mse: 1493.9558\n"
     ]
    }
   ],
   "source": [
    "history_autoencoder=autoencoder.fit(X_train_normal,X_train_normal_r, batch_size=20, \n",
    "                                    epochs=5 , validation_data= (X_test_normal,X_test_normal_r))"
   ]
  },
  {
   "cell_type": "code",
   "execution_count": 24,
   "id": "34f1b28c",
   "metadata": {},
   "outputs": [
    {
     "data": {
      "image/png": "[encoded data removed]",
      "text/plain": [
       "<Figure size 576x360 with 1 Axes>"
      ]
     },
     "metadata": {
      "needs_background": "light"
     },
     "output_type": "display_data"
    }
   ],
   "source": [
    "plt.figure(figsize=(8, 5))\n",
    "\n",
    "plt.plot(history_autoencoder.history['loss'], linewidth=2, label='Train')\n",
    "plt.plot(history_autoencoder.history['val_loss'], linewidth=2, label='Validation')\n",
    "\n",
    "plt.xlabel('Epoque')\n",
    "plt.ylabel('Perte')\n",
    "plt.title('Evolution de la fonction de perte', fontsize=15)\n",
    "plt.legend()\n",
    "plt.show()"
   ]
  },
  {
   "cell_type": "code",
   "execution_count": 25,
   "id": "b4020efb",
   "metadata": {},
   "outputs": [
    {
     "name": "stdout",
     "output_type": "stream",
     "text": [
      "52/52 [==============================] - 107s 2s/step\n",
      "2554.924072265625\n",
      "52/52 [==============================] - 106s 2s/step\n",
      "2560.23828125\n"
     ]
    }
   ],
   "source": [
    "from tensorflow.keras.losses import mean_squared_error\n",
    "\n",
    "X_train_normal_pred=autoencoder.predict(X_train_normal)\n",
    "mse_train=mean_squared_error(X_train_normal_r,X_train_normal_pred)\n",
    "print(np.percentile(mse_train,q=95))\n",
    "\n",
    "X_test_normal_pred=autoencoder.predict(X_test_normal)\n",
    "mse_test=mean_squared_error(X_test_normal_r,X_test_normal_pred)\n",
    "print(np.percentile(mse_test,q=95))"
   ]
  },
  {
   "cell_type": "code",
   "execution_count": 30,
   "id": "a5996d30",
   "metadata": {},
   "outputs": [
    {
     "name": "stdout",
     "output_type": "stream",
     "text": [
      "10/10 [==============================] - 19s 2s/step\n",
      "2575.73291015625\n"
     ]
    }
   ],
   "source": [
    "X_anomaly= X[y == 0]\n",
    "X_anomaly_r = load_data_result(X_anomaly[\"filepath\"])\n",
    "X_anomaly = load_data(X_anomaly[\"filepath\"])\n",
    "\n",
    "X_anomaly_pred=autoencoder.predict(X_anomaly)\n",
    "mse2=mean_squared_error(X_anomaly_r,X_anomaly_pred)\n",
    "print(np.percentile(mse2,q=95))"
   ]
  },
  {
   "cell_type": "code",
   "execution_count": 31,
   "id": "735b81a9",
   "metadata": {},
   "outputs": [
    {
     "name": "stdout",
     "output_type": "stream",
     "text": [
      "Model: \"sequential_4\"\n",
      "_________________________________________________________________\n",
      " Layer (type)                Output Shape              Param #   \n",
      "=================================================================\n",
      " conv2d_8 (Conv2D)           (None, 239, 332, 64)      640       \n",
      "                                                                 \n",
      " conv2d_9 (Conv2D)           (None, 237, 330, 32)      18464     \n",
      "                                                                 \n",
      " flatten_4 (Flatten)         (None, 2502720)           0         \n",
      "                                                                 \n",
      " dense_16 (Dense)            (None, 64)                160174144 \n",
      "                                                                 \n",
      " dense_17 (Dense)            (None, 10)                650       \n",
      "                                                                 \n",
      " dense_18 (Dense)            (None, 10)                110       \n",
      "                                                                 \n",
      " dense_19 (Dense)            (None, 80494)             885434    \n",
      "                                                                 \n",
      " reshape_4 (Reshape)         (None, 241, 334, 1)       0         \n",
      "                                                                 \n",
      " conv2d_transpose_12 (Conv2D  (None, 241, 334, 32)     320       \n",
      " Transpose)                                                      \n",
      "                                                                 \n",
      " conv2d_transpose_13 (Conv2D  (None, 241, 334, 64)     18496     \n",
      " Transpose)                                                      \n",
      "                                                                 \n",
      " conv2d_transpose_14 (Conv2D  (None, 241, 334, 1)      577       \n",
      " Transpose)                                                      \n",
      "                                                                 \n",
      "=================================================================\n",
      "Total params: 161,098,835\n",
      "Trainable params: 161,098,835\n",
      "Non-trainable params: 0\n",
      "_________________________________________________________________\n"
     ]
    }
   ],
   "source": [
    "autoencoder= Sequential()\n",
    "from tensorflow.keras.layers import Conv2DTranspose, Reshape  \n",
    "encodeur_1= Conv2D(64, kernel_size=(3, 3), activation='relu',input_shape=X_train_normal.shape[1:])\n",
    "encodeur_2= Conv2D(32, kernel_size=(3, 3), activation='relu')\n",
    "encodeur_3= Flatten()\n",
    "encodeur_4= Dense(units= 64, activation='relu')\n",
    "encodeur_5= Dense(units= 10, activation='relu')\n",
    "\n",
    "decodeur_0= Dense(units= 10, activation='relu')\n",
    "decodeur_1= Dense(units= 80494, activation='relu')\n",
    "decodeur_2= Reshape((241,334,1))\n",
    "decodeur_3= Conv2DTranspose(32, kernel_size=(3, 3), activation='relu', padding='same')\n",
    "decodeur_4= Conv2DTranspose(64, kernel_size=(3, 3), activation='relu', padding='same')\n",
    "decodeur_5= Conv2DTranspose(1, kernel_size=(3, 3), activation='sigmoid', padding='same')\n",
    "\n",
    "autoencoder.add(encodeur_1)\n",
    "autoencoder.add(encodeur_2)\n",
    "autoencoder.add(encodeur_3)\n",
    "autoencoder.add(encodeur_4)\n",
    "autoencoder.add(encodeur_5)\n",
    "\n",
    "autoencoder.add(decodeur_0)\n",
    "autoencoder.add(decodeur_1)\n",
    "autoencoder.add(decodeur_2)\n",
    "autoencoder.add(decodeur_3)\n",
    "autoencoder.add(decodeur_4)\n",
    "autoencoder.add(decodeur_5)\n",
    "\n",
    "autoencoder.compile(loss='binary_crossentropy',optimizer='adam', metrics= ['mse'])\n",
    "autoencoder.summary()"
   ]
  },
  {
   "cell_type": "code",
   "execution_count": 32,
   "id": "5866eadf",
   "metadata": {},
   "outputs": [
    {
     "name": "stdout",
     "output_type": "stream",
     "text": [
      "Epoch 1/5\n",
      "83/83 [==============================] - 423s 5s/step - loss: 0.1115 - mse: 0.0040 - val_loss: 0.0939 - val_mse: 4.9000e-04\n",
      "Epoch 2/5\n",
      "83/83 [==============================] - 427s 5s/step - loss: 0.0943 - mse: 4.8615e-04 - val_loss: 0.0935 - val_mse: 4.7519e-04\n",
      "Epoch 3/5\n",
      "83/83 [==============================] - 423s 5s/step - loss: 0.0941 - mse: 4.7641e-04 - val_loss: 0.0935 - val_mse: 4.6954e-04\n",
      "Epoch 4/5\n",
      "83/83 [==============================] - 422s 5s/step - loss: 0.0940 - mse: 4.7073e-04 - val_loss: 0.0937 - val_mse: 4.6814e-04\n",
      "Epoch 5/5\n",
      "83/83 [==============================] - 422s 5s/step - loss: 0.0938 - mse: 4.3708e-04 - val_loss: 0.0929 - val_mse: 3.9805e-04\n"
     ]
    }
   ],
   "source": [
    "history_autoencoder=autoencoder.fit(X_train_normal_r,X_train_normal, batch_size=20, \n",
    "                                    epochs=5 , validation_data= (X_test_normal_r,X_test_normal))"
   ]
  },
  {
   "cell_type": "code",
   "execution_count": 33,
   "id": "60a1f406",
   "metadata": {},
   "outputs": [
    {
     "data": {
      "image/png": "[encoded data removed]",
      "text/plain": [
       "<Figure size 576x360 with 1 Axes>"
      ]
     },
     "metadata": {
      "needs_background": "light"
     },
     "output_type": "display_data"
    }
   ],
   "source": [
    "plt.figure(figsize=(8, 5))\n",
    "\n",
    "plt.plot(history_autoencoder.history['loss'], linewidth=2, label='Train')\n",
    "plt.plot(history_autoencoder.history['val_loss'], linewidth=2, label='Validation')\n",
    "\n",
    "plt.xlabel('Epoque')\n",
    "plt.ylabel('Perte')\n",
    "plt.title('Evolution de la fonction de perte', fontsize=15)\n",
    "plt.legend()\n",
    "plt.show()"
   ]
  },
  {
   "cell_type": "code",
   "execution_count": 34,
   "id": "3f1e1f2e",
   "metadata": {},
   "outputs": [
    {
     "name": "stdout",
     "output_type": "stream",
     "text": [
      "52/52 [==============================] - 105s 2s/step\n",
      "0.0011545117595233023\n",
      "52/52 [==============================] - 105s 2s/step\n",
      "0.001134574762545526\n"
     ]
    }
   ],
   "source": [
    "from tensorflow.keras.losses import mean_squared_error\n",
    "\n",
    "X_train_normal_pred=autoencoder.predict(X_train_normal_r)\n",
    "mse_train=mean_squared_error(X_train_normal,X_train_normal_pred)\n",
    "print(np.percentile(mse_train,q=95))\n",
    "\n",
    "X_test_normal_pred=autoencoder.predict(X_test_normal_r)\n",
    "mse_test=mean_squared_error(X_test_normal,X_test_normal_pred)\n",
    "print(np.percentile(mse_test,q=95))"
   ]
  },
  {
   "cell_type": "code",
   "execution_count": 35,
   "id": "7dad0696",
   "metadata": {},
   "outputs": [
    {
     "name": "stdout",
     "output_type": "stream",
     "text": [
      "10/10 [==============================] - 19s 2s/step\n",
      "0.0013704688637517426\n"
     ]
    }
   ],
   "source": [
    "X_anomaly= X[y == 0]\n",
    "X_anomaly_r = load_data_result(X_anomaly[\"filepath\"])\n",
    "X_anomaly = load_data(X_anomaly[\"filepath\"])\n",
    "\n",
    "X_anomaly_pred=autoencoder.predict(X_anomaly_r)\n",
    "mse2=mean_squared_error(X_anomaly,X_anomaly_pred)\n",
    "print(np.percentile(mse2,q=95))"
   ]
  }
 ],
 "metadata": {
  "kernelspec": {
   "display_name": "Python 3 (ipykernel)",
   "language": "python",
   "name": "python3"
  },
  "language_info": {
   "codemirror_mode": {
    "name": "ipython",
    "version": 3
   },
   "file_extension": ".py",
   "mimetype": "text/x-python",
   "name": "python",
   "nbconvert_exporter": "python",
   "pygments_lexer": "ipython3",
   "version": "3.10.10"
  }
 },
 "nbformat": 4,
 "nbformat_minor": 5
}
